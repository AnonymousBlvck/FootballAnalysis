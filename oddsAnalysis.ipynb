{
 "cells": [
  {
   "cell_type": "code",
   "execution_count": 170,
   "metadata": {},
   "outputs": [],
   "source": [
    "import pandas as pd\n",
    "import numpy as np\n",
    "from matplotlib.ticker import FuncFormatter\n",
    "import matplotlib.pyplot as plt\n",
    "plt.rcParams[\"figure.figsize\"] = (10,5)\n",
    "import heapq"
   ]
  },
  {
   "cell_type": "code",
   "execution_count": 190,
   "metadata": {},
   "outputs": [],
   "source": [
    "data_set=pd.read_csv(\"PL17_18.csv\")"
   ]
  },
  {
   "cell_type": "code",
   "execution_count": 191,
   "metadata": {},
   "outputs": [
    {
     "data": {
      "text/html": [
       "<div>\n",
       "<style scoped>\n",
       "    .dataframe tbody tr th:only-of-type {\n",
       "        vertical-align: middle;\n",
       "    }\n",
       "\n",
       "    .dataframe tbody tr th {\n",
       "        vertical-align: top;\n",
       "    }\n",
       "\n",
       "    .dataframe thead th {\n",
       "        text-align: right;\n",
       "    }\n",
       "</style>\n",
       "<table border=\"1\" class=\"dataframe\">\n",
       "  <thead>\n",
       "    <tr style=\"text-align: right;\">\n",
       "      <th></th>\n",
       "      <th>Div</th>\n",
       "      <th>Date</th>\n",
       "      <th>HomeTeam</th>\n",
       "      <th>AwayTeam</th>\n",
       "      <th>FTHG</th>\n",
       "      <th>FTAG</th>\n",
       "      <th>FTR</th>\n",
       "      <th>HTHG</th>\n",
       "      <th>HTAG</th>\n",
       "      <th>HTR</th>\n",
       "      <th>...</th>\n",
       "      <th>BbAv&lt;2.5</th>\n",
       "      <th>BbAH</th>\n",
       "      <th>BbAHh</th>\n",
       "      <th>BbMxAHH</th>\n",
       "      <th>BbAvAHH</th>\n",
       "      <th>BbMxAHA</th>\n",
       "      <th>BbAvAHA</th>\n",
       "      <th>PSCH</th>\n",
       "      <th>PSCD</th>\n",
       "      <th>PSCA</th>\n",
       "    </tr>\n",
       "  </thead>\n",
       "  <tbody>\n",
       "    <tr>\n",
       "      <td>0</td>\n",
       "      <td>E0</td>\n",
       "      <td>11/08/2017</td>\n",
       "      <td>Arsenal</td>\n",
       "      <td>Leicester</td>\n",
       "      <td>4</td>\n",
       "      <td>3</td>\n",
       "      <td>H</td>\n",
       "      <td>2</td>\n",
       "      <td>2</td>\n",
       "      <td>D</td>\n",
       "      <td>...</td>\n",
       "      <td>2.32</td>\n",
       "      <td>21</td>\n",
       "      <td>-1.00</td>\n",
       "      <td>1.91</td>\n",
       "      <td>1.85</td>\n",
       "      <td>2.10</td>\n",
       "      <td>2.02</td>\n",
       "      <td>1.49</td>\n",
       "      <td>4.73</td>\n",
       "      <td>7.25</td>\n",
       "    </tr>\n",
       "    <tr>\n",
       "      <td>1</td>\n",
       "      <td>E0</td>\n",
       "      <td>12/08/2017</td>\n",
       "      <td>Brighton</td>\n",
       "      <td>Man City</td>\n",
       "      <td>0</td>\n",
       "      <td>2</td>\n",
       "      <td>A</td>\n",
       "      <td>0</td>\n",
       "      <td>0</td>\n",
       "      <td>D</td>\n",
       "      <td>...</td>\n",
       "      <td>2.27</td>\n",
       "      <td>20</td>\n",
       "      <td>1.50</td>\n",
       "      <td>1.95</td>\n",
       "      <td>1.91</td>\n",
       "      <td>2.01</td>\n",
       "      <td>1.96</td>\n",
       "      <td>11.75</td>\n",
       "      <td>6.15</td>\n",
       "      <td>1.29</td>\n",
       "    </tr>\n",
       "    <tr>\n",
       "      <td>2</td>\n",
       "      <td>E0</td>\n",
       "      <td>12/08/2017</td>\n",
       "      <td>Chelsea</td>\n",
       "      <td>Burnley</td>\n",
       "      <td>2</td>\n",
       "      <td>3</td>\n",
       "      <td>A</td>\n",
       "      <td>0</td>\n",
       "      <td>3</td>\n",
       "      <td>A</td>\n",
       "      <td>...</td>\n",
       "      <td>2.23</td>\n",
       "      <td>20</td>\n",
       "      <td>-1.75</td>\n",
       "      <td>2.03</td>\n",
       "      <td>1.97</td>\n",
       "      <td>1.95</td>\n",
       "      <td>1.90</td>\n",
       "      <td>1.33</td>\n",
       "      <td>5.40</td>\n",
       "      <td>12.25</td>\n",
       "    </tr>\n",
       "    <tr>\n",
       "      <td>3</td>\n",
       "      <td>E0</td>\n",
       "      <td>12/08/2017</td>\n",
       "      <td>Crystal Palace</td>\n",
       "      <td>Huddersfield</td>\n",
       "      <td>0</td>\n",
       "      <td>3</td>\n",
       "      <td>A</td>\n",
       "      <td>0</td>\n",
       "      <td>2</td>\n",
       "      <td>A</td>\n",
       "      <td>...</td>\n",
       "      <td>1.72</td>\n",
       "      <td>18</td>\n",
       "      <td>-0.75</td>\n",
       "      <td>2.10</td>\n",
       "      <td>2.05</td>\n",
       "      <td>1.86</td>\n",
       "      <td>1.83</td>\n",
       "      <td>1.79</td>\n",
       "      <td>3.56</td>\n",
       "      <td>5.51</td>\n",
       "    </tr>\n",
       "    <tr>\n",
       "      <td>4</td>\n",
       "      <td>E0</td>\n",
       "      <td>12/08/2017</td>\n",
       "      <td>Everton</td>\n",
       "      <td>Stoke</td>\n",
       "      <td>1</td>\n",
       "      <td>0</td>\n",
       "      <td>H</td>\n",
       "      <td>1</td>\n",
       "      <td>0</td>\n",
       "      <td>H</td>\n",
       "      <td>...</td>\n",
       "      <td>1.76</td>\n",
       "      <td>19</td>\n",
       "      <td>-0.75</td>\n",
       "      <td>1.94</td>\n",
       "      <td>1.90</td>\n",
       "      <td>2.01</td>\n",
       "      <td>1.98</td>\n",
       "      <td>1.82</td>\n",
       "      <td>3.49</td>\n",
       "      <td>5.42</td>\n",
       "    </tr>\n",
       "  </tbody>\n",
       "</table>\n",
       "<p>5 rows × 65 columns</p>\n",
       "</div>"
      ],
      "text/plain": [
       "  Div        Date        HomeTeam      AwayTeam  FTHG  FTAG FTR  HTHG  HTAG  \\\n",
       "0  E0  11/08/2017         Arsenal     Leicester     4     3   H     2     2   \n",
       "1  E0  12/08/2017        Brighton      Man City     0     2   A     0     0   \n",
       "2  E0  12/08/2017         Chelsea       Burnley     2     3   A     0     3   \n",
       "3  E0  12/08/2017  Crystal Palace  Huddersfield     0     3   A     0     2   \n",
       "4  E0  12/08/2017         Everton         Stoke     1     0   H     1     0   \n",
       "\n",
       "  HTR  ... BbAv<2.5  BbAH  BbAHh  BbMxAHH  BbAvAHH  BbMxAHA  BbAvAHA   PSCH  \\\n",
       "0   D  ...     2.32    21  -1.00     1.91     1.85     2.10     2.02   1.49   \n",
       "1   D  ...     2.27    20   1.50     1.95     1.91     2.01     1.96  11.75   \n",
       "2   A  ...     2.23    20  -1.75     2.03     1.97     1.95     1.90   1.33   \n",
       "3   A  ...     1.72    18  -0.75     2.10     2.05     1.86     1.83   1.79   \n",
       "4   H  ...     1.76    19  -0.75     1.94     1.90     2.01     1.98   1.82   \n",
       "\n",
       "   PSCD   PSCA  \n",
       "0  4.73   7.25  \n",
       "1  6.15   1.29  \n",
       "2  5.40  12.25  \n",
       "3  3.56   5.51  \n",
       "4  3.49   5.42  \n",
       "\n",
       "[5 rows x 65 columns]"
      ]
     },
     "execution_count": 191,
     "metadata": {},
     "output_type": "execute_result"
    }
   ],
   "source": [
    "data_set.head()"
   ]
  },
  {
   "cell_type": "markdown",
   "metadata": {},
   "source": [
    "###### Bet 365 dataset"
   ]
  },
  {
   "cell_type": "code",
   "execution_count": 192,
   "metadata": {},
   "outputs": [],
   "source": [
    "Bet365_data_set=data_set.filter([\"HomeTeam\",\"AwayTeam\",\"FTHG\",\"FTAG\" ,\"FTR\",\"B365H\",\"B365D\",\"B365A\"])"
   ]
  },
  {
   "cell_type": "code",
   "execution_count": 193,
   "metadata": {},
   "outputs": [
    {
     "name": "stdout",
     "output_type": "stream",
     "text": [
      "['Arsenal' 'Brighton' 'Chelsea' 'Crystal Palace' 'Everton' 'Southampton'\n",
      " 'Watford' 'West Brom' 'Man United' 'Newcastle' 'Bournemouth' 'Burnley'\n",
      " 'Leicester' 'Liverpool' 'Stoke' 'Swansea' 'Huddersfield' 'Tottenham'\n",
      " 'Man City' 'West Ham']\n"
     ]
    }
   ],
   "source": [
    "teams=Bet365_data_set.HomeTeam.unique()\n",
    "print(teams)\n",
    "wins_odd_array=np.array([])\n",
    "draw_odd_array=np.array([])\n",
    "lose_odd_array=np.array([])\n",
    "lose_odd1_array=np.array([])"
   ]
  },
  {
   "cell_type": "code",
   "execution_count": 194,
   "metadata": {},
   "outputs": [
    {
     "name": "stdout",
     "output_type": "stream",
     "text": [
      "wins odds:  [28.79 30.2  35.11 35.06 30.55 15.46 39.65 39.29 42.85 41.4  39.33 59.01\n",
      " 32.71 31.97 21.65 39.2  39.61 36.2  44.73 30.79] \n",
      " draws odds:  [22.94 43.33 35.13 39.46 38.88 55.   28.37 50.35 27.14 27.18 37.27 50.39\n",
      " 40.61 55.2  44.27 33.99 48.34 41.67 31.25 46.91] \n",
      " lose odds :  [44.44 27.02 64.75 32.54 32.02 42.43 45.57 41.87 47.35 41.69 31.3  23.53\n",
      " 34.01 21.1  38.63 42.7  33.72 25.64  7.3  35.95] \n",
      " lose against : [ 42.4  158.97  23.18 120.18  88.84  87.35 126.11 109.47  15.98 144.95\n",
      " 126.3   82.52  87.22  14.93 147.5  167.18 160.83  20.59   4.18 101.86]\n"
     ]
    }
   ],
   "source": [
    "for i in teams:\n",
    "    #print(i)\n",
    "    team_wins=Bet365_data_set.loc[((Bet365_data_set[\"HomeTeam\"]==i) & (Bet365_data_set[\"FTR\"]==\"H\")) | ((Bet365_data_set[\"AwayTeam\"]==i) & (Bet365_data_set[\"FTR\"]==\"A\"))]\n",
    "    team_draws= Bet365_data_set.loc[((Bet365_data_set[\"HomeTeam\"]==i) & (Bet365_data_set[\"FTR\"]==\"D\")) | ((Bet365_data_set[\"AwayTeam\"]==i) & (Bet365_data_set[\"FTR\"]==\"D\"))]\n",
    "    team_loses=Bet365_data_set.loc[((Bet365_data_set[\"HomeTeam\"]==i) & (Bet365_data_set[\"FTR\"]==\"A\")) | ((Bet365_data_set[\"AwayTeam\"]==i) & (Bet365_data_set[\"FTR\"]==\"H\"))]\n",
    "    no_of_wins=team_wins.count()[0]\n",
    "    no_of_draws=team_draws.count()[0]\n",
    "    no_of_loses=team_loses.count()[0]\n",
    "    #print(\"wins: \",no_of_wins,\"draws: \",no_of_draws,\"loses: \",no_of_loses)\n",
    "    total_win_odds=team_wins[team_wins[\"FTR\"]==\"H\"].sum()[\"B365H\"]+team_wins[team_wins[\"FTR\"]==\"A\"].sum()[\"B365A\"]\n",
    "    total_draw_odds=team_draws.sum()[\"B365D\"]\n",
    "    #This is the sum if we bet on a team then we it losses\n",
    "    total_lose_odds1=team_loses[team_loses[\"FTR\"]==\"H\"].sum()[\"B365A\"]+team_loses[team_loses[\"FTR\"]==\"A\"].sum()[\"B365H\"]\n",
    "    #betting against it \n",
    "    total_lose_odds=team_loses[team_loses[\"FTR\"]==\"H\"].sum()[\"B365H\"]+team_loses[team_loses[\"FTR\"]==\"A\"].sum()[\"B365A\"]\n",
    "    wins_odd_array=np.append(wins_odd_array,total_win_odds)\n",
    "    draw_odd_array=np.append(draw_odd_array,total_draw_odds)\n",
    "    lose_odd_array=np.append(lose_odd_array,total_lose_odds)\n",
    "    lose_odd1_array=np.append(lose_odd1_array,total_lose_odds1)\n",
    "    \n",
    "print(\"wins odds: \",wins_odd_array,\"\\n draws odds: \",draw_odd_array,\"\\n lose odds : \",lose_odd_array,\"\\n lose against :\",lose_odd1_array)"
   ]
  },
  {
   "cell_type": "code",
   "execution_count": 196,
   "metadata": {},
   "outputs": [
    {
     "data": {
      "image/png": "[encoded data removed]",
      "text/plain": [
       "<Figure size 720x360 with 1 Axes>"
      ]
     },
     "metadata": {
      "needs_background": "light"
     },
     "output_type": "display_data"
    }
   ],
   "source": [
    "objects = tuple(teams)\n",
    "y_pos = np.arange(len(objects))\n",
    "performance = wins_odd_array\n",
    "plt.bar(y_pos, performance)\n",
    "plt.xticks(y_pos, objects)\n",
    "plt.xticks(rotation=90)\n",
    "plt.ylabel('odds')\n",
    "plt.xlabel('Teams')\n",
    "plt.title('Total odds')\n",
    "plt.show()"
   ]
  },
  {
   "cell_type": "code",
   "execution_count": 197,
   "metadata": {},
   "outputs": [
    {
     "name": "stdout",
     "output_type": "stream",
     "text": [
      "Max odd wins : Burnley ... 59.010000000000005\n",
      "Max odd wins : Man City ... 44.730000000000004\n",
      "Max odd wins : Man United ... 42.85\n",
      "Max odd wins : Newcastle ... 41.4\n",
      "Max odd wins : Watford ... 39.650000000000006\n"
     ]
    }
   ],
   "source": [
    "top_5_wins=heapq.nlargest(5, range(len(wins_odd_array)), key=wins_odd_array.__getitem__)\n",
    "for i in top_5_wins:\n",
    "    print(\"Max odd wins :\",teams[i],\"...\",wins_odd_array[i])"
   ]
  },
  {
   "cell_type": "code",
   "execution_count": 198,
   "metadata": {},
   "outputs": [
    {
     "data": {
      "image/png": "[encoded data removed]",
      "text/plain": [
       "<Figure size 720x360 with 1 Axes>"
      ]
     },
     "metadata": {
      "needs_background": "light"
     },
     "output_type": "display_data"
    }
   ],
   "source": [
    "objects = tuple(teams)\n",
    "y_pos = np.arange(len(objects))\n",
    "performance = draw_odd_array\n",
    "plt.bar(y_pos, performance)\n",
    "plt.xticks(y_pos, objects)\n",
    "plt.xticks(rotation=90)\n",
    "plt.ylabel('odds')\n",
    "plt.xlabel('Teams')\n",
    "plt.title('Total odds')\n",
    "plt.show()"
   ]
  },
  {
   "cell_type": "code",
   "execution_count": 199,
   "metadata": {},
   "outputs": [
    {
     "name": "stdout",
     "output_type": "stream",
     "text": [
      "Max odd draws : Liverpool ... 55.2\n",
      "Max odd draws : Southampton ... 54.99999999999999\n",
      "Max odd draws : Burnley ... 50.39000000000001\n",
      "Max odd draws : West Brom ... 50.35000000000001\n",
      "Max odd draws : Huddersfield ... 48.34\n"
     ]
    }
   ],
   "source": [
    "top_5_draws=heapq.nlargest(5, range(len(draw_odd_array)), key=draw_odd_array.__getitem__)\n",
    "for i in top_5_draws:\n",
    "    print(\"Max odd draws :\",teams[i],\"...\",draw_odd_array[i])"
   ]
  },
  {
   "cell_type": "code",
   "execution_count": 200,
   "metadata": {},
   "outputs": [
    {
     "data": {
      "image/png": "[encoded data removed]",
      "text/plain": [
       "<Figure size 720x360 with 1 Axes>"
      ]
     },
     "metadata": {
      "needs_background": "light"
     },
     "output_type": "display_data"
    }
   ],
   "source": [
    "objects = tuple(teams)\n",
    "y_pos = np.arange(len(objects))\n",
    "performance = lose_odd_array\n",
    "plt.bar(y_pos, performance)\n",
    "plt.xticks(y_pos, objects)\n",
    "plt.xticks(rotation=90)\n",
    "plt.ylabel('odds')\n",
    "plt.xlabel('Teams')\n",
    "plt.title('Total odds')\n",
    "plt.show()"
   ]
  },
  {
   "cell_type": "code",
   "execution_count": 203,
   "metadata": {},
   "outputs": [
    {
     "name": "stdout",
     "output_type": "stream",
     "text": [
      "loses odd loses : Chelsea ... 64.75\n",
      "loses odd loses : Man United ... 47.35\n",
      "loses odd loses : Watford ... 45.57000000000001\n",
      "loses odd loses : Arsenal ... 44.44\n",
      "loses odd loses : Swansea ... 42.7\n"
     ]
    }
   ],
   "source": [
    "top_5_lose=heapq.nlargest(5, range(len(lose_odd_array)), key=lose_odd_array.__getitem__)\n",
    "for i in top_5_lose:\n",
    "    print(\"loses odd loses :\",teams[i],\"...\",lose_odd_array[i])\n"
   ]
  },
  {
   "cell_type": "code",
   "execution_count": 202,
   "metadata": {
    "scrolled": true
   },
   "outputs": [
    {
     "name": "stdout",
     "output_type": "stream",
     "text": [
      "Max odd wins : Swansea ... 167.18\n",
      "Max odd wins : Huddersfield ... 160.82999999999998\n",
      "Max odd wins : Brighton ... 158.96999999999997\n",
      "Max odd wins : Stoke ... 147.5\n",
      "Max odd wins : Newcastle ... 144.95\n"
     ]
    }
   ],
   "source": [
    "top_5_lose1=heapq.nlargest(5, range(len(lose_odd1_array)), key=lose_odd1_array.__getitem__)\n",
    "for i in top_5_lose1:\n",
    "    print(\"Max odd wins :\",teams[i],\"...\",lose_odd1_array[i])"
   ]
  }
 ],
 "metadata": {
  "kernelspec": {
   "display_name": "Python 3",
   "language": "python",
   "name": "python3"
  },
  "language_info": {
   "codemirror_mode": {
    "name": "ipython",
    "version": 3
   },
   "file_extension": ".py",
   "mimetype": "text/x-python",
   "name": "python",
   "nbconvert_exporter": "python",
   "pygments_lexer": "ipython3",
   "version": "3.7.4"
  }
 },
 "nbformat": 4,
 "nbformat_minor": 2
}
